{
 "cells": [
  {
   "cell_type": "markdown",
   "metadata": {},
   "source": [
    "# User routes on the site\n",
    "## Description\n",
    "**Clickstream** is a sequence of user actions on a website. It allows you to understand how users interact with the site. In this task, you need to find the most frequent custom routes.\n",
    "\n",
    "## Input data\n",
    "Input data is а table with clickstream data in file `hdfs:/data/clickstream.csv`.\n",
    "\n",
    "### Table structure\n",
    "* `user_id (int)` - Unique user identifier.\n",
    "* `session_id (int)` - Unique identifier for the user session. The user's session lasts until the identifier changes.\n",
    "* `event_type (string)` - Event type from the list:\n",
    "    * **page** - visit to the page\n",
    "    * **event** - any action on the page\n",
    "    * <b>&lt;custom&gt;</b> - string with any other type\n",
    "* `event_type (string)` - Page on the site.\n",
    "* `timestamp (int)` - Unix-timestamp of action.\n",
    "\n",
    "### Browser errors\n",
    "Errors can sometimes occur in the user's browser - after such an error appears, we can no longer trust the data of this session and all the following lines after the error or at the same time with it are considered corrupted and **should not be counted** in statistics.\n",
    "\n",
    "When an error occurs on the page, a random string containing the word **error** will be written to the `event_type` field.\n",
    "\n",
    "### Sample of user session\n",
    "<pre>\n",
    "+-------+----------+------------+----------+----------+\n",
    "|user_id|session_id|  event_type|event_page| timestamp|\n",
    "+-------+----------+------------+----------+----------+\n",
    "|    562|       507|        page|      main|1620494781|\n",
    "|    562|       507|       event|      main|1620494788|\n",
    "|    562|       507|       event|      main|1620494798|\n",
    "|    562|       507|        page|    family|1620494820|\n",
    "|    562|       507|       event|    family|1620494828|\n",
    "|    562|       507|        page|      main|1620494848|\n",
    "|    562|       507|wNaxLlerrorU|      main|1620494865|\n",
    "|    562|       507|       event|      main|1620494873|\n",
    "|    562|       507|        page|      news|1620494875|\n",
    "|    562|       507|        page|   tariffs|1620494876|\n",
    "|    562|       507|       event|   tariffs|1620494884|\n",
    "|    562|       514|        page|      main|1620728918|\n",
    "|    562|       514|       event|      main|1620729174|\n",
    "|    562|       514|        page|   archive|1620729674|\n",
    "|    562|       514|        page|     bonus|1620729797|\n",
    "|    562|       514|        page|   tariffs|1620731090|\n",
    "|    562|       514|       event|   tariffs|1620731187|\n",
    "+-------+----------+------------+----------+----------+\n",
    "</pre>\n",
    "\n",
    "#### Correct user routes for a given user:\n",
    "* **Session 507**: main-family-main\n",
    "* **Session 514**: main-archive-bonus-tariffs\n",
    "\n",
    "Route elements are ordered by the time they appear in the clickstream, from earliest to latest.\n",
    "\n",
    "The route must be accounted for completely before the end of the session or an error in the session.\n",
    "\n",
    "## Task\n",
    "You need to use the Spark SQL, Spark RDD and Spark DF interfaces to create a solution file, the lines of which contain **the 30 most frequent user routes** on the site.\n",
    "\n",
    "Each line of the file should contain the `route` and `count` values **separated by tabs**, where:\n",
    "* `route` - route on the site, consisting of pages separated by \"-\".\n",
    "* `count` - the number of user sessions in which this route was.\n",
    "\n",
    "The lines must be **ordered in descending order** of the `count` field.\n",
    "\n",
    "## Criteria\n",
    "You can get maximum of 3.5 points (final grade) for this assignment, depedning on the number of interface you manage to leverage. The criteria are as follows:\n",
    "\n",
    "* 0.5 points – Spark SQL solution with 1 query\n",
    "* 0.5 points – Spark SQL solution with <=2 queries\n",
    "* 0.5 points – Spark RDD solution\n",
    "* 0.5 points – Spark DF solution\n",
    "* 0.5 points – your solution algorithm is relatively optimized, i.e.: no O^2 or O^3 complexities; appropriate object usage; no data leaks etc. This is evaluated by staff.\n",
    "* 1 point – 1 on 1 screening session. During this session staff member can ask you questions regarding your solution logic, framework usage, questionable parts of your code etc. If your code is clean enough, the staff member can just ask you to solve a theoretical problem connected to Spark.\n"
   ]
  },
  {
   "cell_type": "code",
   "execution_count": 1,
   "metadata": {
    "tags": []
   },
   "outputs": [
    {
     "name": "stderr",
     "output_type": "stream",
     "text": [
      "Setting default log level to \"WARN\".\n",
      "To adjust logging level use sc.setLogLevel(newLevel). For SparkR, use setLogLevel(newLevel).\n",
      "2024-10-27 20:06:16,624 WARN yarn.Client: Neither spark.yarn.jars nor spark.yarn.archive is set, falling back to uploading libraries under SPARK_HOME.\n"
     ]
    }
   ],
   "source": [
    "import findspark\n",
    "findspark.init()\n",
    "\n",
    "import pyspark\n",
    "sc = pyspark.SparkContext(appName='jupyter')\n",
    "\n",
    "from pyspark.sql import SparkSession, Row\n",
    "se = SparkSession(sc)"
   ]
  },
  {
   "cell_type": "code",
   "execution_count": 2,
   "metadata": {
    "tags": []
   },
   "outputs": [],
   "source": [
    "! hadoop fs -copyFromLocal clickstream.csv"
   ]
  },
  {
   "cell_type": "code",
   "execution_count": 3,
   "metadata": {
    "tags": []
   },
   "outputs": [
    {
     "name": "stdout",
     "output_type": "stream",
     "text": [
      "Found 2 items\n",
      "drwxr-xr-x   - jovyan supergroup          0 2024-10-27 20:06 .sparkStaging\n",
      "-rw-r--r--   1 jovyan supergroup     30.7 M 2024-10-27 20:06 clickstream.csv\n"
     ]
    }
   ],
   "source": [
    "! hadoop fs -ls -h "
   ]
  },
  {
   "cell_type": "code",
   "execution_count": 4,
   "metadata": {
    "tags": []
   },
   "outputs": [
    {
     "name": "stderr",
     "output_type": "stream",
     "text": [
      "                                                                                \r"
     ]
    }
   ],
   "source": [
    "from pyspark.sql import SparkSession\n",
    "from pyspark.sql import functions as F\n",
    "\n",
    "df = se.read.option(\"delimiter\", \"\\t\").csv(\"clickstream.csv\", header=True)"
   ]
  },
  {
   "cell_type": "code",
   "execution_count": 11,
   "metadata": {
    "tags": []
   },
   "outputs": [],
   "source": [
    "from pyspark.sql.window import Window\n",
    "\n",
    "error_df = df.filter(F.lower(df.event_type).contains(\"error\"))\n",
    "error_times = error_df.groupBy(\"session_id\", \"user_id\") \\\n",
    "    .agg(F.min(\"timestamp\").alias(\"error_timestamp\"))\n",
    "\n",
    "clean_df = (\n",
    "    df\n",
    "    .join(error_times, on=[\"session_id\", \"user_id\"], how=\"left\")\n",
    "    .withColumn(\"valid\", F.when(F.col(\"error_timestamp\").isNull() | \n",
    "                                (F.col(\"timestamp\") < F.col(\"error_timestamp\")), 1).otherwise(0)) \n",
    "    .filter(F.col(\"valid\") == 1) \n",
    "    .drop(\"valid\", \"error_timestamp\")\n",
    ")\n"
   ]
  },
  {
   "cell_type": "code",
   "execution_count": 16,
   "metadata": {
    "tags": []
   },
   "outputs": [
    {
     "name": "stderr",
     "output_type": "stream",
     "text": [
      "                                                                                \r"
     ]
    },
    {
     "name": "stdout",
     "output_type": "stream",
     "text": [
      "+----------+-------+--------------------+\n",
      "|session_id|user_id|               route|\n",
      "+----------+-------+--------------------+\n",
      "|         0|    412|main-digital-news...|\n",
      "|         0|   4624|main-tariffs-bonu...|\n",
      "|         0|   4488|main-bonus-rabota...|\n",
      "|         0|   2156|        main-tariffs|\n",
      "|         0|   2536| main-tariffs-online|\n",
      "|         1|    322|main-news-vklad-i...|\n",
      "|         1|   2043|                main|\n",
      "|         1|   2620|    main-rabota-news|\n",
      "|         1|    178|main-internet-tar...|\n",
      "|         1|   1995|main-archive-tari...|\n",
      "|         1|   1374|main-internet-new...|\n",
      "|         1|    170|main-bonus-main-i...|\n",
      "|        10|   4214|           main-news|\n",
      "|        10|   4026|          main-vklad|\n",
      "|        10|   2936|main-internet-onl...|\n",
      "|        10|    170|main-bonus-vklad-...|\n",
      "|        10|   1492|main-tariffs-bonu...|\n",
      "|        10|   2556|main-news-interne...|\n",
      "|        10|   2043|main-tariffs-news...|\n",
      "|        10|   2564|main-tariffs-rabo...|\n",
      "+----------+-------+--------------------+\n",
      "only showing top 20 rows\n",
      "\n"
     ]
    },
    {
     "name": "stderr",
     "output_type": "stream",
     "text": [
      "                                                                                \r"
     ]
    }
   ],
   "source": [
    "window_spec = Window.partitionBy(\"session_id\", \"user_id\").orderBy(\"timestamp\")\n",
    "\n",
    "clickstream_with_prev_df = clean_df.withColumn(\n",
    "    \"prev_page\", F.lag(\"event_page\").over(window_spec)\n",
    ")\n",
    "\n",
    "filtered_clean_df = clickstream_with_prev_df.filter(\n",
    "    (F.col(\"event_page\") != F.col(\"prev_page\")) | F.col(\"prev_page\").isNull()\n",
    ")\n",
    "\n",
    "routes_df = filtered_clean_df.groupBy(\"session_id\", \"user_id\").agg(\n",
    "    F.concat_ws(\"-\", F.collect_list(\"event_page\")).alias(\"route\")\n",
    ").orderBy(\"session_id\")\n",
    "\n",
    "routes_df.show()"
   ]
  },
  {
   "cell_type": "code",
   "execution_count": 17,
   "metadata": {
    "tags": []
   },
   "outputs": [],
   "source": [
    "routes_df = routes_df.groupBy(\"route\") \\\n",
    "    .agg(F.count(\"session_id\").alias(\"count\")) \\\n",
    "    .orderBy(F.desc(\"count\"))\n",
    "top_30_routes_df = routes_df.limit(30)"
   ]
  },
  {
   "cell_type": "code",
   "execution_count": 18,
   "metadata": {
    "tags": []
   },
   "outputs": [
    {
     "name": "stderr",
     "output_type": "stream",
     "text": [
      "                                                                                \r"
     ]
    },
    {
     "data": {
      "text/plain": [
       "[Row(route='main', count=8184),\n",
       " Row(route='main-archive', count=1113),\n",
       " Row(route='main-rabota', count=1046),\n",
       " Row(route='main-internet', count=897),\n",
       " Row(route='main-bonus', count=870),\n",
       " Row(route='main-news', count=769),\n",
       " Row(route='main-tariffs', count=677),\n",
       " Row(route='main-online', count=586),\n",
       " Row(route='main-vklad', count=518),\n",
       " Row(route='main-rabota-archive', count=170),\n",
       " Row(route='main-archive-rabota', count=167),\n",
       " Row(route='main-bonus-archive', count=143),\n",
       " Row(route='main-rabota-bonus', count=139),\n",
       " Row(route='main-news-rabota', count=135),\n",
       " Row(route='main-bonus-rabota', count=135),\n",
       " Row(route='main-archive-internet', count=132),\n",
       " Row(route='main-rabota-news', count=130),\n",
       " Row(route='main-internet-rabota', count=129),\n",
       " Row(route='main-archive-news', count=126),\n",
       " Row(route='main-rabota-internet', count=124),\n",
       " Row(route='main-internet-archive', count=123),\n",
       " Row(route='main-archive-bonus', count=117),\n",
       " Row(route='main-internet-bonus', count=115),\n",
       " Row(route='main-tariffs-internet', count=114),\n",
       " Row(route='main-news-archive', count=113),\n",
       " Row(route='main-news-internet', count=109),\n",
       " Row(route='main-archive-tariffs', count=104),\n",
       " Row(route='main-internet-news', count=103),\n",
       " Row(route='main-tariffs-archive', count=103),\n",
       " Row(route='main-rabota-main', count=94)]"
      ]
     },
     "execution_count": 18,
     "metadata": {},
     "output_type": "execute_result"
    }
   ],
   "source": [
    "top_30_routes_df.collect()"
   ]
  },
  {
   "cell_type": "code",
   "execution_count": 19,
   "metadata": {
    "tags": []
   },
   "outputs": [
    {
     "data": {
      "text/plain": [
       "DataFrame[route: string, count: bigint]"
      ]
     },
     "execution_count": 19,
     "metadata": {},
     "output_type": "execute_result"
    }
   ],
   "source": [
    "top_30_routes_df"
   ]
  },
  {
   "cell_type": "code",
   "execution_count": 20,
   "metadata": {
    "tags": []
   },
   "outputs": [
    {
     "name": "stderr",
     "output_type": "stream",
     "text": [
      "                                                                                \r"
     ]
    }
   ],
   "source": [
    "top_30_routes_df.write.json('result.json', mode='overwrite')"
   ]
  },
  {
   "cell_type": "code",
   "execution_count": 21,
   "metadata": {
    "tags": []
   },
   "outputs": [
    {
     "name": "stdout",
     "output_type": "stream",
     "text": [
      "Found 3 items\n",
      "drwxr-xr-x   - jovyan supergroup          0 2024-10-27 20:08 .sparkStaging\n",
      "-rw-r--r--   1 jovyan supergroup     30.7 M 2024-10-27 20:06 clickstream.csv\n",
      "drwxr-xr-x   - jovyan supergroup          0 2024-10-27 20:13 result.json\n"
     ]
    }
   ],
   "source": [
    "! hadoop fs -ls -h "
   ]
  },
  {
   "cell_type": "code",
   "execution_count": 28,
   "metadata": {
    "tags": []
   },
   "outputs": [],
   "source": [
    "pandas_df = top_30_routes_df.toPandas()\n",
    "result_dict = pandas_df.set_index('route').T.to_dict('records')\n",
    "simple_dict = {row['route']: row['count'] for row in pandas_df.to_dict('records')}"
   ]
  },
  {
   "cell_type": "code",
   "execution_count": 31,
   "metadata": {
    "tags": []
   },
   "outputs": [],
   "source": [
    "import json\n",
    "with open(\"final_result.json\", \"w\") as json_file:\n",
    "    json.dump(simple_dict, json_file, indent=4)\n"
   ]
  },
  {
   "cell_type": "code",
   "execution_count": 35,
   "metadata": {
    "tags": []
   },
   "outputs": [
    {
     "data": {
      "text/plain": [
       "{'main': 8184,\n",
       " 'main-archive': 1113,\n",
       " 'main-rabota': 1046,\n",
       " 'main-internet': 897,\n",
       " 'main-bonus': 870,\n",
       " 'main-news': 769,\n",
       " 'main-tariffs': 677,\n",
       " 'main-online': 586,\n",
       " 'main-vklad': 518,\n",
       " 'main-rabota-archive': 170,\n",
       " 'main-archive-rabota': 167,\n",
       " 'main-bonus-archive': 143,\n",
       " 'main-rabota-bonus': 139,\n",
       " 'main-news-rabota': 135,\n",
       " 'main-bonus-rabota': 135,\n",
       " 'main-archive-internet': 132,\n",
       " 'main-rabota-news': 130,\n",
       " 'main-internet-rabota': 129,\n",
       " 'main-archive-news': 126,\n",
       " 'main-rabota-internet': 124,\n",
       " 'main-internet-archive': 123,\n",
       " 'main-archive-bonus': 117,\n",
       " 'main-internet-bonus': 115,\n",
       " 'main-tariffs-internet': 114,\n",
       " 'main-news-archive': 113,\n",
       " 'main-news-internet': 109,\n",
       " 'main-archive-tariffs': 104,\n",
       " 'main-internet-news': 103,\n",
       " 'main-tariffs-archive': 103,\n",
       " 'main-rabota-main': 94}"
      ]
     },
     "execution_count": 35,
     "metadata": {},
     "output_type": "execute_result"
    }
   ],
   "source": [
    "simple_dict"
   ]
  },
  {
   "cell_type": "code",
   "execution_count": 37,
   "metadata": {
    "tags": []
   },
   "outputs": [
    {
     "name": "stdout",
     "output_type": "stream",
     "text": [
      "0.8999999999999999\n",
      "Correct main answer!\n",
      "Correct main-archive answer!\n",
      "Correct main-rabota answer!\n",
      "Correct main-internet answer!\n",
      "Correct main-bonus answer!\n",
      "Correct main-news answer!\n",
      "Correct main-tariffs answer!\n",
      "Wrong main-online answer!\n",
      "Correct main-vklad answer!\n",
      "Correct main-rabota-archive answer!\n",
      "Wrong main-archive-rabota answer!\n",
      "Wrong main-bonus-archive answer!\n",
      "Wrong main-rabota-bonus answer!\n",
      "Wrong main-news-rabota answer!\n",
      "Wrong main-bonus-rabota answer!\n",
      "Wrong main-archive-internet answer!\n",
      "Wrong main-rabota-news answer!\n",
      "Wrong main-internet-rabota answer!\n",
      "Wrong main-archive-news answer!\n",
      "Wrong main-rabota-internet answer!\n",
      "Wrong main-internet-archive answer!\n",
      "Wrong main-archive-bonus answer!\n",
      "Wrong main-internet-bonus answer!\n",
      "Wrong main-tariffs-internet answer!\n",
      "Wrong main-news-archive answer!\n",
      "Wrong main-news-internet answer!\n",
      "Wrong main-archive-tariffs answer!\n",
      "Wrong main-internet-news answer!\n",
      "Wrong main-tariffs-archive answer!\n",
      "Wrong main-rabota-main answer!\n"
     ]
    }
   ],
   "source": [
    "!curl -F file=@final_result.json 51.250.123.136:80/MDS-LSML1/rmnv_igor/w6/2"
   ]
  },
  {
   "cell_type": "markdown",
   "metadata": {},
   "source": [
    "# 2"
   ]
  },
  {
   "cell_type": "code",
   "execution_count": null,
   "metadata": {},
   "outputs": [],
   "source": []
  },
  {
   "cell_type": "code",
   "execution_count": 38,
   "metadata": {
    "tags": []
   },
   "outputs": [],
   "source": [
    "df.createOrReplaceTempView(\"clickstream\")\n",
    "\n",
    "valid_routes_sql = \"\"\"\n",
    "WITH ErrorSessions AS (\n",
    "    SELECT session_id, user_id, MIN(timestamp) AS error_time\n",
    "    FROM clickstream\n",
    "    WHERE LOWER(event_type) LIKE '%error%'\n",
    "    GROUP BY session_id, user_id\n",
    "),\n",
    "FilteredData AS (\n",
    "    SELECT c.*\n",
    "    FROM clickstream c\n",
    "    LEFT JOIN ErrorSessions e \n",
    "         ON c.session_id = e.session_id\n",
    "            and c.user_id = e.user_id\n",
    "    WHERE e.error_time IS NULL OR c.timestamp < e.error_time\n",
    ")\n",
    "SELECT \n",
    "    session_id,\n",
    "    user_id,\n",
    "    CONCAT_WS('-', COLLECT_LIST(event_page)) AS route\n",
    "FROM (\n",
    "    SELECT session_id, user_id, event_page, timestamp,\n",
    "           LEAD(event_page) OVER (PARTITION BY session_id, user_id ORDER BY timestamp) AS prev_page\n",
    "    FROM FilteredData\n",
    ") AS filtered\n",
    "WHERE event_page != prev_page OR prev_page IS NULL\n",
    "GROUP BY session_id, user_id\n",
    "ORDER BY session_id, user_id;\n",
    "\"\"\"\n",
    "\n",
    "valid_routes_df = se.sql(valid_routes_sql)\n"
   ]
  },
  {
   "cell_type": "code",
   "execution_count": 44,
   "metadata": {
    "tags": []
   },
   "outputs": [],
   "source": [
    "route_counts_df = valid_routes_df.groupBy(\"route\").agg(F.count(\"session_id\").alias(\"count\")) \\\n",
    "                                  .orderBy(F.desc(\"count\"))\n",
    "\n",
    "top_routes_df2 = route_counts_df.limit(30)"
   ]
  },
  {
   "cell_type": "code",
   "execution_count": 45,
   "metadata": {
    "tags": []
   },
   "outputs": [
    {
     "name": "stderr",
     "output_type": "stream",
     "text": [
      "                                                                                \r"
     ]
    }
   ],
   "source": [
    "pandas_df2 = top_routes_df2.toPandas()\n",
    "result_dict2 = pandas_df2.set_index('route').T.to_dict('records')\n",
    "simple_dict2 = {row['route']: row['count'] for row in pandas_df2.to_dict('records')}"
   ]
  },
  {
   "cell_type": "code",
   "execution_count": 46,
   "metadata": {
    "tags": []
   },
   "outputs": [],
   "source": [
    "import json\n",
    "with open(\"final_result2.json\", \"w\") as json_file:\n",
    "    json.dump(simple_dict2, json_file, indent=4)\n"
   ]
  },
  {
   "cell_type": "code",
   "execution_count": 47,
   "metadata": {
    "tags": []
   },
   "outputs": [
    {
     "name": "stdout",
     "output_type": "stream",
     "text": [
      "0.8999999999999999\n",
      "Correct main answer!\n",
      "Correct main-archive answer!\n",
      "Correct main-rabota answer!\n",
      "Correct main-internet answer!\n",
      "Correct main-bonus answer!\n",
      "Correct main-news answer!\n",
      "Correct main-tariffs answer!\n",
      "Wrong main-online answer!\n",
      "Correct main-vklad answer!\n",
      "Correct main-rabota-archive answer!\n",
      "Wrong main-archive-rabota answer!\n",
      "Wrong main-bonus-archive answer!\n",
      "Wrong main-rabota-bonus answer!\n",
      "Wrong main-news-rabota answer!\n",
      "Wrong main-bonus-rabota answer!\n",
      "Wrong main-archive-internet answer!\n",
      "Wrong main-rabota-news answer!\n",
      "Wrong main-internet-rabota answer!\n",
      "Wrong main-archive-news answer!\n",
      "Wrong main-rabota-internet answer!\n",
      "Wrong main-internet-archive answer!\n",
      "Wrong main-archive-bonus answer!\n",
      "Wrong main-internet-bonus answer!\n",
      "Wrong main-tariffs-internet answer!\n",
      "Wrong main-news-archive answer!\n",
      "Wrong main-news-internet answer!\n",
      "Wrong main-archive-tariffs answer!\n",
      "Wrong main-internet-news answer!\n",
      "Wrong main-tariffs-archive answer!\n",
      "Wrong main-rabota-main answer!\n"
     ]
    }
   ],
   "source": [
    "!curl -F file=@final_result2.json 51.250.123.136:80/MDS-LSML1/rmnv_igor/w6/2"
   ]
  }
 ],
 "metadata": {
  "coursera": {
   "schema_names": [
    "week-4-spark-homework"
   ]
  },
  "kernelspec": {
   "display_name": "Python 3 (ipykernel)",
   "language": "python",
   "name": "python3"
  },
  "language_info": {
   "codemirror_mode": {
    "name": "ipython",
    "version": 3
   },
   "file_extension": ".py",
   "mimetype": "text/x-python",
   "name": "python",
   "nbconvert_exporter": "python",
   "pygments_lexer": "ipython3",
   "version": "3.10.9"
  },
  "vscode": {
   "interpreter": {
    "hash": "31f2aee4e71d21fbe5cf8b01ff0e069b9275f58929596ceb00d14d90e3e16cd6"
   }
  }
 },
 "nbformat": 4,
 "nbformat_minor": 4
}
